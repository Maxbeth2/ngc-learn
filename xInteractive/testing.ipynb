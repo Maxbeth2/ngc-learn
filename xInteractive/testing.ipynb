{
 "cells": [
  {
   "cell_type": "code",
   "execution_count": 84,
   "metadata": {},
   "outputs": [],
   "source": [
    "from ngclearn.utils import io_utils as io\n",
    "from ngclearn.engine.ngc_graph import NGCGraph\n",
    "\n",
    "model : NGCGraph"
   ]
  },
  {
   "cell_type": "code",
   "execution_count": 85,
   "metadata": {},
   "outputs": [
    {
     "name": "stdout",
     "output_type": "stream",
     "text": [
      "dict_keys(['lat', 'lat_col', 'lat_pos', 'col', 'pos', 'lat_col_mu', 'lat_pos_mu', 'col_mu', 'pos_mu', 'lc_e', 'lp_e', 'col_e', 'pos_e'])\n",
      "[<tf.Variable 'A_lat-to-lat_col_mu_dense:0' shape=(3, 3) dtype=float32, numpy=\n",
      "array([[ 0.4438217 , -0.50263655, -0.48759663],\n",
      "       [ 0.46589383, -0.48049042, -0.55593884],\n",
      "       [-0.51842135,  0.5446325 ,  0.5010952 ]], dtype=float32)>, <tf.Variable 'A_lat-to-lat_pos_mu_dense:0' shape=(3, 3) dtype=float32, numpy=\n",
      "array([[ 0.38088003,  0.3354461 ,  0.35600927],\n",
      "       [ 0.33496752,  0.30597854,  0.3247628 ],\n",
      "       [-0.2908568 , -0.26980177, -0.28134838]], dtype=float32)>, <tf.Variable 'A_lat_col-to-col_mu_dense:0' shape=(3, 3) dtype=float32, numpy=\n",
      "array([[-0.48710036, -0.42695647, -0.19705385],\n",
      "       [ 0.24686506,  0.31964475,  0.48350477],\n",
      "       [ 0.25385776,  0.26380545,  0.52566284]], dtype=float32)>, <tf.Variable 'A_lat_pos-to-pos_mu_dense:0' shape=(3, 2) dtype=float32, numpy=\n",
      "array([[-0.65708315, -0.2553809 ],\n",
      "       [-0.2484625 , -0.60851014],\n",
      "       [-0.42794746, -0.45688653]], dtype=float32)>]\n",
      "15\n"
     ]
    }
   ],
   "source": [
    "model : NGCGraph\n",
    "model = io.deserialize('saved_models/mm3108_viktor.ngc')\n",
    "\n",
    "print(model.nodes.keys())\n",
    "print(model.theta)\n",
    "print(model.K)\n",
    "K = model.K\n",
    "lat_lat_pos = model.cables[\"lat-to-lat_pos_mu_dense\"]\n",
    "lat_pos_pos = model.cables[\"lat_pos-to-pos_mu_dense\"]\n",
    "\n",
    "lat_lat_col = model.cables[\"lat-to-lat_col_mu_dense\"]\n",
    "lat_col_col = model.cables[\"lat_col-to-col_mu_dense\"]\n",
    "\n",
    "\n",
    "\n",
    "\n",
    "\n"
   ]
  },
  {
   "cell_type": "code",
   "execution_count": 86,
   "metadata": {},
   "outputs": [],
   "source": [
    "from utils.construction_utils import SNodeBuilder, CableConnector\n",
    "from ngclearn.engine.nodes.enode import ENode\n",
    "_bd = SNodeBuilder()\n",
    "latent_dim = 3\n",
    "col_dim = 3\n",
    "pos_dim = 2\n",
    "\n",
    "# col = _bd.O0_build(\"col\", dim=col_dim)\n",
    "# col_e = ENode(\"col_e\", dim=col_dim)\n",
    "col_F = _bd.O1_set_numerals(zeta=0.0, beta=1.0).O0_build(\"col_F\", dim=col_dim)\n",
    "# lat_col = _bd.O0_build(\"lat_col\", dim=latent_dim)\n",
    "# lat_col_e = ENode(\"lc_e\", dim=latent_dim)\n",
    "lat_col_F = _bd.O1_set_numerals(zeta=0.0, beta=1.0).O0_build(\"lat_col_F\", dim=latent_dim)\n",
    "\n",
    "latent_vec = _bd.O0_build(\"lat\", dim=latent_dim)\n",
    "\n",
    "lat_pos_mu = _bd.O0_build(\"lat_pos_mu\", dim=latent_dim)\n",
    "lat_pos_e = ENode(\"lp_e\", dim=latent_dim)\n",
    "lat_pos = _bd.O0_build(\"lat_pos\", dim=latent_dim)\n",
    "\n",
    "pos_mu = _bd.O0_build(\"pos_mu\", dim=pos_dim)\n",
    "pos_e = ENode(\"pos_e\", dim=pos_dim)\n",
    "pos = _bd.O0_build(\"pos\", dim=pos_dim)\n",
    "\n",
    "cc = CableConnector()\n",
    "\n",
    "lv_lpmu = cc.O1_mirror(lat_lat_pos, mode=cc.Param.A).O0_connect(latent_vec, lat_pos_mu)\n",
    "cc.O1_simple().O0_connect(lat_pos_mu, lat_pos_e, to_comp=cc.EComps.PMU)\n",
    "cc.O1_simple().O0_connect(lat_pos, lat_pos_e, to_comp=cc.EComps.PTARG)\n",
    "lpe_lv = cc.O1_mirror(lat_lat_pos, mode=cc.Param.AT).O0_connect(lat_pos_e, latent_vec)\n",
    "\n",
    "lp_pmu = cc.O1_mirror(lat_pos_pos, mode=cc.Param.A).O0_connect(lat_pos, pos_mu)\n",
    "cc.O1_simple().O0_connect(pos_mu, pos_e, to_comp=cc.EComps.PMU)\n",
    "cc.O1_simple().O0_connect(pos, pos_e, to_comp=cc.EComps.PTARG)\n",
    "pe_lp = cc.O1_mirror(lat_pos_pos, mode=cc.Param.AT).O0_connect(pos_e, lat_pos)\n",
    "\n",
    "# ----\n",
    "\n",
    "lv_lcmu = cc.O1_mirror(lat_lat_col, mode=cc.Param.A).O0_connect(latent_vec, lat_col_F)\n",
    "# lcmu_lce = cc.O1_simple().O0_connect(lat_col_mu, lat_col_e, to_comp=cc.EComps.PMU)\n",
    "# lc_lce = cc.O1_simple().O0_connect(lat_col, lat_col_e, to_comp=cc.EComps.PTARG)\n",
    "# lce_lv = cc.O1_mirror(lv_lcmu).O0_connect(lat_col_e, latent_vec)\n",
    "\n",
    "lc_cmu = cc.O1_mirror(lat_col_col, mode=cc.Param.A).O0_connect(lat_col_F, col_F)\n",
    "# cmu_ce = cc.O1_simple().O0_connect(col_mu, col_e, to_comp=cc.EComps.PMU)\n",
    "# col_ce = cc.O1_simple().O0_connect(col, col_e, to_comp=cc.EComps.PTARG)\n",
    "# ce_lc = cc.O1_mirror(lc_cmu).O0_connect(col_e, lat_col)\n",
    "\n",
    "blinded_model = NGCGraph(K=K)\n",
    "blinded_model.set_cycle([latent_vec, lat_pos, pos])\n",
    "blinded_model.set_cycle([lat_pos_mu, pos_mu, lat_col_F, col_F])\n",
    "blinded_model.set_cycle([lat_pos_e, pos_e])\n",
    "info = blinded_model.compile(batch_size=1)"
   ]
  },
  {
   "cell_type": "code",
   "execution_count": 87,
   "metadata": {},
   "outputs": [
    {
     "name": "stdout",
     "output_type": "stream",
     "text": [
      "(100, 100)\n",
      "[[[0.         0.         0.        ]\n",
      "  [0.00390698 0.00401622 0.00489274]\n",
      "  [0.00781396 0.00803244 0.00978548]\n",
      "  ...\n",
      "  [0.37897718 0.38957345 0.47459567]\n",
      "  [0.38288411 0.39358965 0.47948837]\n",
      "  [0.38679114 0.3976059  0.48438114]]\n",
      "\n",
      " [[0.0040615  0.00417516 0.00508672]\n",
      "  [0.00796848 0.00819138 0.00997945]\n",
      "  [0.01187546 0.0122076  0.01487219]\n",
      "  ...\n",
      "  [0.38303864 0.39374855 0.47968233]\n",
      "  [0.38694564 0.39776483 0.48457515]\n",
      "  [0.3908526  0.40178102 0.48946783]]\n",
      "\n",
      " [[0.008123   0.00835031 0.01017343]\n",
      "  [0.01202998 0.01236653 0.01506617]\n",
      "  [0.01593696 0.01638275 0.01995891]\n",
      "  ...\n",
      "  [0.38710013 0.39792368 0.48476902]\n",
      "  [0.39100716 0.40193999 0.48966184]\n",
      "  [0.39491415 0.40595621 0.49455461]]\n",
      "\n",
      " ...\n",
      "\n",
      " [[0.39396536 0.40499005 0.49341133]\n",
      "  [0.39787236 0.40900627 0.49830407]\n",
      "  [0.40177932 0.41302249 0.50319678]\n",
      "  ...\n",
      "  [0.77294254 0.79456347 0.96800697]\n",
      "  [0.77684951 0.79857975 0.97289973]\n",
      "  [0.78075653 0.80259597 0.97779244]]\n",
      "\n",
      " [[0.39802685 0.4091652  0.49849802]\n",
      "  [0.40193385 0.41318142 0.50339079]\n",
      "  [0.40584081 0.41719764 0.50828356]\n",
      "  ...\n",
      "  [0.77700412 0.79873866 0.97309369]\n",
      "  [0.78091109 0.80275488 0.97798645]\n",
      "  [0.78481793 0.80677104 0.98287904]]\n",
      "\n",
      " [[0.40208834 0.41334036 0.50358474]\n",
      "  [0.40599537 0.41735661 0.50847751]\n",
      "  [0.40990233 0.42137277 0.51337022]\n",
      "  ...\n",
      "  [0.78106546 0.80291384 0.97818041]\n",
      "  [0.78497243 0.80693001 0.98307317]\n",
      "  [0.78887945 0.81094617 0.98796588]]]\n"
     ]
    },
    {
     "data": {
      "text/plain": [
       "<matplotlib.image.AxesImage at 0x18030506800>"
      ]
     },
     "execution_count": 87,
     "metadata": {},
     "output_type": "execute_result"
    },
    {
     "data": {
      "image/png": "[encoded data removed]",
      "text/plain": [
       "<Figure size 640x480 with 1 Axes>"
      ]
     },
     "metadata": {},
     "output_type": "display_data"
    }
   ],
   "source": [
    "import numpy as np\n",
    "import tensorflow as tf\n",
    "dim = 100\n",
    "pic = np.zeros((dim,dim,3))\n",
    "print(pic[:,:,0].shape)\n",
    "for iind, i in enumerate(np.linspace(0,1,dim)):\n",
    "    for jind, j in enumerate(np.linspace(0,1,dim)):\n",
    "        pos = np.array([[i, j]])\n",
    "        pos = tf.cast(pos, dtype=tf.float32)\n",
    "        rd, d = blinded_model.settle(\n",
    "            clamped_vars=[(\"pos\", \"z\", pos)],\n",
    "            readout_vars=[(\"col_F\", \"phi(z)\")]\n",
    "        )\n",
    "        # print(pic[int(i),int(j)])\n",
    "        pic[iind,jind,:] = rd[0][2].numpy()[0]\n",
    "        # print(rd[0,2,:].numpy()[0])\n",
    "        blinded_model.clear()\n",
    "\n",
    "import matplotlib.pyplot as plt\n",
    "print(pic)\n",
    "plt.imshow(pic)\n"
   ]
  },
  {
   "cell_type": "code",
   "execution_count": 63,
   "metadata": {},
   "outputs": [
    {
     "ename": "ValueError",
     "evalue": "Floating point image RGB values must be in the 0..1 range.",
     "output_type": "error",
     "traceback": [
      "\u001b[1;31m---------------------------------------------------------------------------\u001b[0m",
      "\u001b[1;31mValueError\u001b[0m                                Traceback (most recent call last)",
      "Cell \u001b[1;32mIn[63], line 1\u001b[0m\n\u001b[1;32m----> 1\u001b[0m \u001b[43mplt\u001b[49m\u001b[38;5;241;43m.\u001b[39;49m\u001b[43mimsave\u001b[49m\u001b[43m(\u001b[49m\u001b[43mfname\u001b[49m\u001b[38;5;241;43m=\u001b[39;49m\u001b[38;5;124;43m\"\u001b[39;49m\u001b[38;5;124;43mUgly_image.jpg\u001b[39;49m\u001b[38;5;124;43m\"\u001b[39;49m\u001b[43m,\u001b[49m\u001b[43m \u001b[49m\u001b[43marr\u001b[49m\u001b[38;5;241;43m=\u001b[39;49m\u001b[43mpic\u001b[49m\u001b[43m)\u001b[49m\n",
      "File \u001b[1;32mc:\\Users\\maxer\\miniconda3\\envs\\ngc\\lib\\site-packages\\matplotlib\\pyplot.py:2396\u001b[0m, in \u001b[0;36mimsave\u001b[1;34m(fname, arr, **kwargs)\u001b[0m\n\u001b[0;32m   2392\u001b[0m \u001b[38;5;129m@_copy_docstring_and_deprecators\u001b[39m(matplotlib\u001b[38;5;241m.\u001b[39mimage\u001b[38;5;241m.\u001b[39mimsave)\n\u001b[0;32m   2393\u001b[0m \u001b[38;5;28;01mdef\u001b[39;00m \u001b[38;5;21mimsave\u001b[39m(\n\u001b[0;32m   2394\u001b[0m     fname: \u001b[38;5;28mstr\u001b[39m \u001b[38;5;241m|\u001b[39m os\u001b[38;5;241m.\u001b[39mPathLike \u001b[38;5;241m|\u001b[39m BinaryIO, arr: ArrayLike, \u001b[38;5;241m*\u001b[39m\u001b[38;5;241m*\u001b[39mkwargs\n\u001b[0;32m   2395\u001b[0m ) \u001b[38;5;241m-\u001b[39m\u001b[38;5;241m>\u001b[39m \u001b[38;5;28;01mNone\u001b[39;00m:\n\u001b[1;32m-> 2396\u001b[0m     matplotlib\u001b[38;5;241m.\u001b[39mimage\u001b[38;5;241m.\u001b[39mimsave(fname, arr, \u001b[38;5;241m*\u001b[39m\u001b[38;5;241m*\u001b[39mkwargs)\n",
      "File \u001b[1;32mc:\\Users\\maxer\\miniconda3\\envs\\ngc\\lib\\site-packages\\matplotlib\\image.py:1617\u001b[0m, in \u001b[0;36mimsave\u001b[1;34m(fname, arr, vmin, vmax, cmap, format, origin, dpi, metadata, pil_kwargs)\u001b[0m\n\u001b[0;32m   1615\u001b[0m     sm \u001b[38;5;241m=\u001b[39m cm\u001b[38;5;241m.\u001b[39mScalarMappable(cmap\u001b[38;5;241m=\u001b[39mcmap)\n\u001b[0;32m   1616\u001b[0m     sm\u001b[38;5;241m.\u001b[39mset_clim(vmin, vmax)\n\u001b[1;32m-> 1617\u001b[0m     rgba \u001b[38;5;241m=\u001b[39m \u001b[43msm\u001b[49m\u001b[38;5;241;43m.\u001b[39;49m\u001b[43mto_rgba\u001b[49m\u001b[43m(\u001b[49m\u001b[43marr\u001b[49m\u001b[43m,\u001b[49m\u001b[43m \u001b[49m\u001b[38;5;28;43mbytes\u001b[39;49m\u001b[38;5;241;43m=\u001b[39;49m\u001b[38;5;28;43;01mTrue\u001b[39;49;00m\u001b[43m)\u001b[49m\n\u001b[0;32m   1618\u001b[0m \u001b[38;5;28;01mif\u001b[39;00m pil_kwargs \u001b[38;5;129;01mis\u001b[39;00m \u001b[38;5;28;01mNone\u001b[39;00m:\n\u001b[0;32m   1619\u001b[0m     pil_kwargs \u001b[38;5;241m=\u001b[39m {}\n",
      "File \u001b[1;32mc:\\Users\\maxer\\miniconda3\\envs\\ngc\\lib\\site-packages\\matplotlib\\cm.py:486\u001b[0m, in \u001b[0;36mScalarMappable.to_rgba\u001b[1;34m(self, x, alpha, bytes, norm)\u001b[0m\n\u001b[0;32m    484\u001b[0m \u001b[38;5;28;01mif\u001b[39;00m xx\u001b[38;5;241m.\u001b[39mdtype\u001b[38;5;241m.\u001b[39mkind \u001b[38;5;241m==\u001b[39m \u001b[38;5;124m'\u001b[39m\u001b[38;5;124mf\u001b[39m\u001b[38;5;124m'\u001b[39m:\n\u001b[0;32m    485\u001b[0m     \u001b[38;5;28;01mif\u001b[39;00m norm \u001b[38;5;129;01mand\u001b[39;00m (xx\u001b[38;5;241m.\u001b[39mmax() \u001b[38;5;241m>\u001b[39m \u001b[38;5;241m1\u001b[39m \u001b[38;5;129;01mor\u001b[39;00m xx\u001b[38;5;241m.\u001b[39mmin() \u001b[38;5;241m<\u001b[39m \u001b[38;5;241m0\u001b[39m):\n\u001b[1;32m--> 486\u001b[0m         \u001b[38;5;28;01mraise\u001b[39;00m \u001b[38;5;167;01mValueError\u001b[39;00m(\u001b[38;5;124m\"\u001b[39m\u001b[38;5;124mFloating point image RGB values \u001b[39m\u001b[38;5;124m\"\u001b[39m\n\u001b[0;32m    487\u001b[0m                          \u001b[38;5;124m\"\u001b[39m\u001b[38;5;124mmust be in the 0..1 range.\u001b[39m\u001b[38;5;124m\"\u001b[39m)\n\u001b[0;32m    488\u001b[0m     \u001b[38;5;28;01mif\u001b[39;00m \u001b[38;5;28mbytes\u001b[39m:\n\u001b[0;32m    489\u001b[0m         xx \u001b[38;5;241m=\u001b[39m (xx \u001b[38;5;241m*\u001b[39m \u001b[38;5;241m255\u001b[39m)\u001b[38;5;241m.\u001b[39mastype(np\u001b[38;5;241m.\u001b[39muint8)\n",
      "\u001b[1;31mValueError\u001b[0m: Floating point image RGB values must be in the 0..1 range."
     ]
    }
   ],
   "source": [
    "plt.imsave(fname=\"Ugly_image.jpg\", arr=pic)"
   ]
  },
  {
   "cell_type": "code",
   "execution_count": null,
   "metadata": {},
   "outputs": [],
   "source": [
    "from construction_utils import SNodeBuilder, CableConnector\n",
    "from ngclearn.engine.nodes.enode import ENode\n",
    "from ngclearn.engine.ngc_graph import NGCGraph\n",
    "x_dim = 2\n",
    "z1_dim = 16\n",
    "z2_dim = 3\n",
    "bd = SNodeBuilder()\n",
    "cc = CableConnector()\n",
    "\n",
    "z2 = bd.O0_build(\"z2\", dim=z2_dim)\n",
    "mu1 = bd.O0_build(\"mu1\", dim=z1_dim)\n",
    "e1 = ENode(\"e1\", dim=z1_dim)\n",
    "z1 = bd.Op1_with_prior().O0_build(\"z1\", dim=z1_dim)\n",
    "mu0 = bd.O0_build(\"mu0\", dim=x_dim)\n",
    "# mu0b = bd.O0_build(\"mu0b\", dim=x_dim)\n",
    "e0 = ENode(\"e0\", dim=x_dim)\n",
    "# e0b = ENode(\"e0b\", dim=x_dim)\n",
    "z0 = bd.O0_build(\"z0\", dim=x_dim)\n",
    "# z0b = bd.O0_build(\"z0b\", dim=x_dim)\n",
    "\n",
    "z2_mu1 = cc.O1_dense().O0_connect(z2, mu1)\n",
    "z1_mu0 = cc.O1_dense().O0_connect(z1, mu0)\n",
    "cc.O1_simple(1.0).O0_connect(mu1, e1, to_comp=cc.EComps.PMU)\n",
    "cc.O1_simple(1.0).O0_connect(z1, e1, to_comp=cc.EComps.PTARG)\n",
    "cc.O1_simple(1.0).O0_connect(mu0, e0, to_comp=cc.EComps.PMU)\n",
    "cc.O1_simple(1.0).O0_connect(z0, e0, to_comp=cc.EComps.PTARG)\n",
    "\n",
    "cc.O1_mirror(z2_mu1).O0_connect(e1, z2, to_comp=cc.SComps.BU)\n",
    "cc.O1_mirror(z1_mu0).O0_connect(e0, z1, to_comp=cc.SComps.BU)\n",
    "\n",
    "\n",
    "\n",
    "circuit = NGCGraph(K=40)\n",
    "circuit.set_cycle([z2, z1, z0])\n",
    "circuit.set_cycle([mu1, mu0])\n",
    "circuit.set_cycle([e1, e0])\n",
    "circuit.compile(batch_size=1)\n",
    "\n",
    "from vis import visualize_graph\n",
    "\n",
    "visualize_graph(circuit, output_dir=\"vis_net\", width='1000px') # generate the graph visual of"
   ]
  },
  {
   "cell_type": "code",
   "execution_count": 67,
   "metadata": {},
   "outputs": [
    {
     "name": "stdout",
     "output_type": "stream",
     "text": [
      "two_wayncn.html\n"
     ]
    },
    {
     "data": {
      "text/plain": [
       "<ngclearn.engine.ngc_graph.NGCGraph at 0x18026266fb0>"
      ]
     },
     "execution_count": 67,
     "metadata": {},
     "output_type": "execute_result"
    }
   ],
   "source": [
    "from neural_forge.two_way import build_deep_two_way\n",
    "\n",
    "build_deep_two_way()"
   ]
  },
  {
   "cell_type": "code",
   "execution_count": 83,
   "metadata": {},
   "outputs": [
    {
     "data": {
      "text/plain": [
       "<matplotlib.image.AxesImage at 0x180302ffe20>"
      ]
     },
     "execution_count": 83,
     "metadata": {},
     "output_type": "execute_result"
    },
    {
     "data": {
      "image/png": "[encoded data removed]",
      "text/plain": [
       "<Figure size 640x480 with 1 Axes>"
      ]
     },
     "metadata": {},
     "output_type": "display_data"
    }
   ],
   "source": [
    "import numpy as np\n",
    "import matplotlib.pyplot as plt\n",
    "pic = np.random.random((3,3,3))\n",
    "plt.imshow(pic)"
   ]
  },
  {
   "cell_type": "markdown",
   "metadata": {},
   "source": []
  }
 ],
 "metadata": {
  "kernelspec": {
   "display_name": "ngc",
   "language": "python",
   "name": "python3"
  },
  "language_info": {
   "codemirror_mode": {
    "name": "ipython",
    "version": 3
   },
   "file_extension": ".py",
   "mimetype": "text/x-python",
   "name": "python",
   "nbconvert_exporter": "python",
   "pygments_lexer": "ipython3",
   "version": "3.10.13"
  }
 },
 "nbformat": 4,
 "nbformat_minor": 2
}
