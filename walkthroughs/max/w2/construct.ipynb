{
 "cells": [
  {
   "cell_type": "code",
   "execution_count": null,
   "metadata": {},
   "outputs": [],
   "source": [
    "from construction_utils import SNodeBuilder, CableConnector\n",
    "from ngclearn.engine.nodes.enode import ENode\n",
    "from ngclearn.engine.ngc_graph import NGCGraph\n",
    "x_dim = 2\n",
    "z1_dim = 16\n",
    "z2_dim = 3\n",
    "bd = SNodeBuilder()\n",
    "cc = CableConnector()\n",
    "\n",
    "z2 = bd.O0_build(\"z2\", dim=z2_dim)\n",
    "mu1 = bd.O0_build(\"mu1\", dim=z1_dim)\n",
    "e1 = ENode(\"e1\", dim=z1_dim)\n",
    "z1 = bd.Op1_with_prior().O0_build(\"z1\", dim=z1_dim)\n",
    "mu0 = bd.O0_build(\"mu0\", dim=x_dim)\n",
    "# mu0b = bd.O0_build(\"mu0b\", dim=x_dim)\n",
    "e0 = ENode(\"e0\", dim=x_dim)\n",
    "# e0b = ENode(\"e0b\", dim=x_dim)\n",
    "z0 = bd.O0_build(\"z0\", dim=x_dim)\n",
    "# z0b = bd.O0_build(\"z0b\", dim=x_dim)\n",
    "\n",
    "z2_mu1 = cc.O1_dense().O0_connect(z2, mu1)\n",
    "z1_mu0 = cc.O1_dense().O0_connect(z1, mu0)\n",
    "cc.O1_simple(1.0).O0_connect(mu1, e1, to_comp=cc.EComps.PMU)\n",
    "cc.O1_simple(1.0).O0_connect(z1, e1, to_comp=cc.EComps.PTARG)\n",
    "cc.O1_simple(1.0).O0_connect(mu0, e0, to_comp=cc.EComps.PMU)\n",
    "cc.O1_simple(1.0).O0_connect(z0, e0, to_comp=cc.EComps.PTARG)\n",
    "\n",
    "cc.O1_mirror(z2_mu1).O0_connect(e1, z2, to_comp=cc.SComps.BU)\n",
    "cc.O1_mirror(z1_mu0).O0_connect(e0, z1, to_comp=cc.SComps.BU)\n",
    "\n",
    "\n",
    "\n",
    "circuit = NGCGraph(K=40)\n",
    "circuit.set_cycle([z2, z1, z0])\n",
    "circuit.set_cycle([mu1, mu0])\n",
    "circuit.set_cycle([e1, e0])\n",
    "circuit.compile(batch_size=1)\n",
    "\n",
    "from vis import visualize_graph\n",
    "\n",
    "visualize_graph(circuit, output_dir=\"vis_net\", width='1000px') # generate the graph visual of"
   ]
  },
  {
   "cell_type": "code",
   "execution_count": null,
   "metadata": {},
   "outputs": [],
   "source": [
    "from pynput.mouse import Button, Controller\n",
    "from supercollider import Server, Synth\n",
    "import tensorflow as tf\n",
    "import numpy as np\n",
    "import threading\n",
    "from queue import Queue\n",
    "\n",
    "server = Server()\n",
    "synth1 = Synth(server, \"siner\", {\"freq\": 440.0, \"gain\": -12.0})\n",
    "synth2 = Synth(server, \"sinel\", {\"freq\": 440.0, \"gain\": -12.0})\n",
    "mouse = Controller()\n",
    "\n",
    "# Create a Queue for communication between threads\n",
    "data_queue = Queue()\n",
    "\n",
    "def update_synths():\n",
    "    try:\n",
    "        while True:\n",
    "            synth1.set(\"freq\", (mouse.position[0] / 3.0) + 80.0)\n",
    "            synth2.set(\"freq\", (mouse.position[1] / 3.0) + 80.0)\n",
    "    except KeyboardInterrupt:\n",
    "        synth1.free()\n",
    "        synth2.free()\n",
    "\n",
    "# Start the Synth operations in a separate thread\n",
    "update_synths_thread = threading.Thread(target=update_synths)\n",
    "update_synths_thread.start()\n",
    "\n",
    "try:\n",
    "    with open('xy.txt', 'a') as file:\n",
    "        while True:\n",
    "        # Run TensorFlow operations on the main thread\n",
    "            x = tf.cast(np.array([mouse.position]), dtype=tf.float32)\n",
    "            print(x)\n",
    "            circuit.settle(clamped_vars=[(\"z0\", \"z\", x)])\n",
    "            x, y = mouse.position\n",
    "            file.write(f\"{x},{y}\\n\")\n",
    "\n",
    "except KeyboardInterrupt:\n",
    "    # Signal the Synth thread to stop\n",
    "    update_synths_thread.join()\n",
    "    while not data_queue.empty():\n",
    "        print(data_queue.get)"
   ]
  },
  {
   "cell_type": "code",
   "execution_count": 5,
   "metadata": {},
   "outputs": [
    {
     "name": "stdout",
     "output_type": "stream",
     "text": [
      "aa\n"
     ]
    }
   ],
   "source": [
    "from multiprocessing import Process\n",
    "class CustomProcess(Process):\n",
    "    # override the run function\n",
    "    def run(self):\n",
    "        # block for a moment\n",
    "        # sleep(1)\n",
    "        # display a message\n",
    "        print('This is coming from another process')\n",
    "\n",
    "\n",
    "if __name__ == \"__main__\":\n",
    "    cp = CustomProcess()\n",
    "    cp.start()\n"
   ]
  }
 ],
 "metadata": {
  "kernelspec": {
   "display_name": "ngc",
   "language": "python",
   "name": "python3"
  },
  "language_info": {
   "codemirror_mode": {
    "name": "ipython",
    "version": 3
   },
   "file_extension": ".py",
   "mimetype": "text/x-python",
   "name": "python",
   "nbconvert_exporter": "python",
   "pygments_lexer": "ipython3",
   "version": "3.10.13"
  }
 },
 "nbformat": 4,
 "nbformat_minor": 2
}
