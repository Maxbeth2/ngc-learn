{
 "cells": [
  {
   "cell_type": "markdown",
   "metadata": {},
   "source": [
    "### Building NGC graphs"
   ]
  },
  {
   "cell_type": "markdown",
   "metadata": {},
   "source": [
    "Construct Graph\\\n",
    "\\\n",
    "<img src=\"Group42.png\" alt=\"MarineGEO circle logo\" style=\"height: 200px; width:100px;\"/>\n",
    "\n",
    "\n"
   ]
  },
  {
   "cell_type": "markdown",
   "metadata": {},
   "source": [
    "# Learning a Data Generating Process\n"
   ]
  },
  {
   "cell_type": "code",
   "execution_count": 21,
   "metadata": {},
   "outputs": [],
   "source": [
    "from ngclearn.generator.static.mog import MoG\n",
    "import numpy as np\n",
    "import tensorflow as tf\n",
    "from construction_utils import SNodeBuilder, CableConnector\n",
    "from ngclearn.engine.nodes.enode import ENode\n",
    "from ngclearn.engine.ngc_graph import NGCGraph"
   ]
  },
  {
   "cell_type": "code",
   "execution_count": 22,
   "metadata": {},
   "outputs": [],
   "source": [
    "mu1 = np.array([[-1.0,1.2]])\n",
    "cov1 = np.array([[0.1,0.0],\n",
    "                 [0.0,0.2]])\n",
    "mu1 = tf.cast(mu1,dtype=tf.float32)\n",
    "cov1 = tf.cast(cov1,dtype=tf.float32)\n",
    "\n",
    "mu2 = np.array([[0.85,-1.3]])\n",
    "cov2 = np.array([[0.2,0.0],\n",
    "                 [0.0,0.12]])\n",
    "mu2 = tf.cast(mu2,dtype=tf.float32)\n",
    "cov2 = tf.cast(cov2,dtype=tf.float32)\n",
    "\n",
    "mu3 = np.array([[0.92, 1.1]])\n",
    "cov3 = np.array([[0.12,0.0],\n",
    "                 [0.0,0.18]])\n",
    "mu3 = tf.cast(mu3,dtype=tf.float32)\n",
    "cov3 = tf.cast(cov3,dtype=tf.float32)\n"
   ]
  },
  {
   "cell_type": "code",
   "execution_count": 23,
   "metadata": {},
   "outputs": [],
   "source": [
    "mu_list = [mu1, mu2, mu3]\n",
    "sigma_list = [cov1, cov2, cov3]\n",
    "process = MoG(means=mu_list, covar=sigma_list, seed=69)\n",
    "x_dim = mu1.shape[1]"
   ]
  },
  {
   "cell_type": "code",
   "execution_count": 24,
   "metadata": {},
   "outputs": [],
   "source": [
    "K = 40\n",
    "leak = 0.0001\n",
    "beta = 0.1\n",
    "z2_dim = 2\n",
    "z1_dim = 64\n",
    "\n",
    "bd = SNodeBuilder()\n",
    "cc = CableConnector()\n",
    "\n",
    "z2 = bd                                   \\\n",
    "    .O1_set_numerals(beta=beta, leak=leak) \\\n",
    "    .O2_set_cats(integrate=True, use_dfx=True)              \\\n",
    "    .O0_build(name=\"z2\", dim=z2_dim)                            #O\n",
    "mu1 = bd.O1_set_numerals(zeta=0.0).O0_build(\"mu1\", dim=z1_dim)  #V\n",
    "e1 = ENode(name=\"e1\", dim=z1_dim)                               #E\n",
    "z1 = bd                                            \\\n",
    "    .O1_set_numerals(beta=beta, leak=leak)          \\\n",
    "    .O2_set_cats(integrate=True, use_dfx=True, act_fx=bd.ACT_FX.RELU) \\\n",
    "    .Op1_with_prior(pt=bd.PT.LAPLACE, lbd=0.0001)     \\\n",
    "    .O0_build(\"z1\", dim=z1_dim)                                #^\n",
    "mu0 = bd.O1_set_numerals(zeta=0.0).O0_build(\"mu0\", dim=x_dim)  #0\n",
    "e0 = ENode(name=\"e1\", dim=x_dim)                               #E\n",
    "z0 = bd                        \\\n",
    "    .O1_set_numerals(beta=beta) \\\n",
    "    .O2_set_cats(integrate=True, use_dfx=True)   \\\n",
    "    .O0_build(name=\"z0\", dim=x_dim)                             #O"
   ]
  },
  {
   "cell_type": "code",
   "execution_count": 25,
   "metadata": {},
   "outputs": [
    {
     "name": "stdout",
     "output_type": "stream",
     "text": [
      "Connecting nodes z2-mu1 with -dense- cable\n",
      "Connecting nodes mu1-e1 with -simple- cable\n",
      "Connecting nodes z1-e1 with -simple- cable\n",
      "Connecting nodes e1-z2 with -mirrored- cable\n",
      "Connecting nodes e1-z1 with -simple- cable\n",
      "Connecting nodes z1-mu0 with -dense- cable\n",
      "Connecting nodes mu0-e1 with -simple- cable\n",
      "Connecting nodes z0-e1 with -simple- cable\n",
      "Connecting nodes e1-z1 with -mirrored- cable\n",
      "Connecting nodes e1-z0 with -simple- cable\n"
     ]
    },
    {
     "data": {
      "text/plain": [
       "<ngclearn.engine.cables.scable.SCable at 0x2d18b7010>"
      ]
     },
     "execution_count": 25,
     "metadata": {},
     "output_type": "execute_result"
    }
   ],
   "source": [
    "z2_mu1 = cc.O1_dense().Op1_with_update_rule(z2, e1).Op2_with_constraints().O0_connect(z2, mu1)\n",
    "cc.O1_simple().O0_connect(mu1, e1, to_comp=cc.EComps.PMU)\n",
    "cc.O1_simple().O0_connect(z1, e1, from_comp=cc.SComps.Z, to_comp=cc.EComps.PTARG)\n",
    "cc.O1_mirror(z2_mu1).O0_connect(e1, z2, to_comp=cc.SComps.BU)\n",
    "cc.O1_simple(-1.0).O0_connect(e1, z1)\n",
    "\n",
    "z1_mu0 = cc.O1_dense().Op1_with_update_rule(z1, e0).Op2_with_constraints().O0_connect(z1, mu0)\n",
    "cc.O1_simple().O0_connect(mu0, e0, to_comp=cc.EComps.PMU)\n",
    "cc.O1_simple().O0_connect(z0, e0, from_comp=cc.SComps.Z, to_comp=cc.EComps.PTARG)\n",
    "cc.O1_mirror(z1_mu0).O0_connect(e0, z1, to_comp=cc.SComps.BU)\n",
    "cc.O1_simple(-1.0).O0_connect(e0, z0)"
   ]
  },
  {
   "cell_type": "code",
   "execution_count": 26,
   "metadata": {},
   "outputs": [],
   "source": [
    "model = NGCGraph(K=K)\n",
    "model.set_cycle(nodes=[z2, z1, z0])\n",
    "model.set_cycle(nodes=[mu1, mu0])\n",
    "model.set_cycle(nodes=[e1, e0])\n",
    "model.apply_constraints()\n",
    "info = model.compile(batch_size=1)"
   ]
  },
  {
   "cell_type": "code",
   "execution_count": 27,
   "metadata": {},
   "outputs": [],
   "source": [
    "eta = 0.002\n",
    "eta_v  = tf.Variable( eta ) # set up optimization process\n",
    "opt = tf.keras.optimizers.legacy.Adam(eta_v)"
   ]
  },
  {
   "cell_type": "code",
   "execution_count": 3,
   "metadata": {},
   "outputs": [],
   "source": [
    "from supercollider import Server, Synth\n",
    "\n",
    "server = Server()\n",
    "\n",
    "synth = Synth(server, \"sine\", { \"freq\" : 440.0, \"gain\" : -12.0 })\n",
    "synth.set(\"freq\", 220.0)\n",
    "\n"
   ]
  },
  {
   "cell_type": "code",
   "execution_count": 4,
   "metadata": {},
   "outputs": [],
   "source": [
    "synth.set(\"freq\", 440.0)"
   ]
  },
  {
   "cell_type": "code",
   "execution_count": 17,
   "metadata": {},
   "outputs": [],
   "source": [
    "from pynput.mouse import Button, Controller\n",
    "\n",
    "from supercollider import Server, Synth\n",
    "\n",
    "server = Server()\n",
    "\n",
    "synth1 = Synth(server, \"sine\", { \"freq\" : 440.0, \"gain\" : -12.0 })\n",
    "synth2 = Synth(server, \"sine\", { \"freq\" : 440.0, \"gain\" : -12.0 })\n",
    "\n",
    "\n",
    "mouse = Controller()\n",
    "try:\n",
    "    while(True):\n",
    "        synth1.set(\"freq\", mouse.position[0]/3.0)\n",
    "        synth2.set(\"freq\", mouse.position[1]/3.0)\n",
    "except KeyboardInterrupt:\n",
    "    synth1.free()\n",
    "    synth2.free()\n",
    "\n"
   ]
  },
  {
   "cell_type": "code",
   "execution_count": 21,
   "metadata": {},
   "outputs": [],
   "source": [
    "from construction_utils import SNodeBuilder, CableConnector\n",
    "from ngclearn.engine.nodes.enode import ENode\n",
    "from ngclearn.engine.ngc_graph import NGCGraph\n",
    "x_dim = 2\n",
    "z1_dim = 16\n",
    "z2_dim = 3\n",
    "bd = SNodeBuilder()\n",
    "cc = CableConnector()\n",
    "\n",
    "z2 = bd.O0_build(\"z2\", dim=z2_dim)\n",
    "mu1 = bd.O0_build(\"mu1\", dim=z1_dim)\n",
    "e1 = ENode(\"e1\", dim=z1_dim)\n",
    "z1 = bd.O0_build(\"z1\", dim=z1_dim)\n",
    "mu0 = bd.O0_build(\"mu0\", dim=x_dim)\n",
    "e0 = ENode(\"e0\", dim=x_dim)\n",
    "z0 = bd.O0_build(\"z0\", dim=x_dim)\n",
    "\n",
    "cc.O1_dense().O0_connect(z2, mu1)\n",
    "cc.O1_dense().O0_connect(z1, mu0)\n",
    "\n",
    "\n",
    "circuit = NGCGraph(K=1)\n",
    "circuit.set_cycle([z2, z1, z0])\n",
    "circuit.set_cycle([mu1, mu0])\n",
    "circuit.set_cycle([e1, e0])\n",
    "circuit.compile(batch_size=1)\n",
    "\n",
    "import ngclearn.utils.experimental.viz_graph_utils as viz\n",
    "\n",
    "viz.visualize_graph(circuit) # generate the graph visual of"
   ]
  }
 ],
 "metadata": {
  "kernelspec": {
   "display_name": "ngc",
   "language": "python",
   "name": "python3"
  },
  "language_info": {
   "codemirror_mode": {
    "name": "ipython",
    "version": 3
   },
   "file_extension": ".py",
   "mimetype": "text/x-python",
   "name": "python",
   "nbconvert_exporter": "python",
   "pygments_lexer": "ipython3",
   "version": "3.10.13"
  }
 },
 "nbformat": 4,
 "nbformat_minor": 2
}
