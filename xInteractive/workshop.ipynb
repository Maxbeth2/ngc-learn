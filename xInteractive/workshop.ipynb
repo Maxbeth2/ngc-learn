{
 "cells": [
  {
   "cell_type": "code",
   "execution_count": 20,
   "metadata": {},
   "outputs": [
    {
     "name": "stdout",
     "output_type": "stream",
     "text": [
      ".\n",
      "c:\\Users\\maxer\\Documents\\GitHub\\ngc-learn\\xInteractive\n",
      "The image has been converted from .png to  <class 'numpy.ndarray'>\n"
     ]
    }
   ],
   "source": [
    "import cv2\n",
    "import os\n",
    "\n",
    "# print(os.curdir)\n",
    "# print(os.path.abspath(os.curdir))\n",
    "original = cv2.imread(r'data/circles.png')\n",
    "\n",
    "convert = cv2.cvtColor(original, cv2.COLOR_BGR2RGB)\n",
    "#writing the image to a file \n",
    "cv2.imwrite('opncv_sample.png', convert)\n",
    "#printing the type of the converted image\n",
    "print (\"The image has been converted from .png to \",type(convert))"
   ]
  },
  {
   "cell_type": "code",
   "execution_count": 24,
   "metadata": {},
   "outputs": [
    {
     "name": "stdout",
     "output_type": "stream",
     "text": [
      "The datatype of the image now =  <class 'numpy.ndarray'>\n",
      "The type of the array: float32\n",
      "The shape of the image is: (500, 500, 3)\n"
     ]
    }
   ],
   "source": [
    "from tensorflow.keras.utils import img_to_array\n",
    "from tensorflow.keras.utils import load_img\n",
    "\n",
    "org_img= load_img('data/circles.png')\n",
    "img_array = img_to_array(org_img)\n",
    "\n",
    "print(\"The datatype of the image now = \",type(img_array))\n",
    "# displaying the datatype of the elements of array\n",
    "print(\"The type of the array:\", img_array.dtype)\n",
    "# displaying dimensions of the image\n",
    "print(\"The shape of the image is:\", img_array.shape)"
   ]
  }
 ],
 "metadata": {
  "kernelspec": {
   "display_name": "ngc",
   "language": "python",
   "name": "python3"
  },
  "language_info": {
   "codemirror_mode": {
    "name": "ipython",
    "version": 3
   },
   "file_extension": ".py",
   "mimetype": "text/x-python",
   "name": "python",
   "nbconvert_exporter": "python",
   "pygments_lexer": "ipython3",
   "version": "3.10.13"
  }
 },
 "nbformat": 4,
 "nbformat_minor": 2
}
