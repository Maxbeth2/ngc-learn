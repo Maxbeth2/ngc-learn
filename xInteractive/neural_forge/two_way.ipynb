{
 "cells": [
  {
   "cell_type": "code",
   "execution_count": 10,
   "metadata": {},
   "outputs": [
    {
     "ename": "ModuleNotFoundError",
     "evalue": "No module named 'utils'",
     "output_type": "error",
     "traceback": [
      "\u001b[1;31m---------------------------------------------------------------------------\u001b[0m",
      "\u001b[1;31mModuleNotFoundError\u001b[0m                       Traceback (most recent call last)",
      "Cell \u001b[1;32mIn[10], line 1\u001b[0m\n\u001b[1;32m----> 1\u001b[0m \u001b[38;5;28;01mfrom\u001b[39;00m \u001b[38;5;21;01mutils\u001b[39;00m\u001b[38;5;21;01m.\u001b[39;00m\u001b[38;5;21;01mconstruction_utils\u001b[39;00m \u001b[38;5;28;01mimport\u001b[39;00m SNodeBuilder, CableConnector\n\u001b[0;32m      2\u001b[0m bd \u001b[38;5;241m=\u001b[39m SNodeBuilder()\n\u001b[0;32m      4\u001b[0m latent_dim \u001b[38;5;241m=\u001b[39m \u001b[38;5;241m3\u001b[39m\n",
      "\u001b[1;31mModuleNotFoundError\u001b[0m: No module named 'utils'"
     ]
    }
   ],
   "source": [
    "from utils.construction_utils import SNodeBuilder, CableConnector\n",
    "bd = SNodeBuilder()\n",
    "\n",
    "latent_dim = 3\n",
    "\n",
    "col = bd.O0_build(\"col\", dim=3)\n",
    "col_e = bd.O0_build(\"col_e\", dim=3)\n",
    "col_mu = bd.O0_build(\"col_mu\", dim=3)\n",
    "lat_col = None\n",
    "latent_vec = bd.O0_build(\"lat\", dim=3)\n",
    "lat_pos = None\n",
    "pos_mu = bd.O0_build(\"pos_mu\", dim=2)\n",
    "pos_e = bd.O0_build(\"pos_e\", dim=2)\n",
    "pos = bd.O0_build(\"pos\", dim=2)\n",
    "\n",
    "\n",
    "\n",
    "cc = CableConnector()\n",
    "\n",
    "cc.O1_simple().O0_connect(col, col_e)\n",
    "cc.O1_simple().O0_connect(col_mu, col_e)\n",
    "\n",
    "lat_cc = cc.O1_dense().O0_connect(latent_vec, col_mu)\n",
    "cc.O1_mirror(lat_cc).O0_connect(col_e, latent_vec)\n",
    "lat_pc = cc.O1_dense().O0_connect(latent_vec, pos_mu)\n",
    "cc.O1_mirror(lat_pc).O0_connect(pos_e, latent_vec)\n",
    "\n",
    "cc.O1_simple().O0_connect(pos_mu, pos_e)\n",
    "cc.O1_simple().O0_connect(pos, pos_e)\n",
    "\n",
    "from ngclearn.engine.ngc_graph import NGCGraph\n",
    "\n",
    "model = NGCGraph(K=20)\n",
    "model.set_cycle([latent_vec])\n",
    "model.set_cycle([col_mu, pos_mu])\n",
    "model.set_cycle([col_e, pos_e])\n",
    "\n",
    "model.compile(batch_size=1)\n",
    "\n",
    "from utils.vis import visualize_graph\n",
    "\n",
    "visualize_graph(model, output_dir=\"two_way\")"
   ]
  }
 ],
 "metadata": {
  "kernelspec": {
   "display_name": "ngc",
   "language": "python",
   "name": "python3"
  },
  "language_info": {
   "codemirror_mode": {
    "name": "ipython",
    "version": 3
   },
   "file_extension": ".py",
   "mimetype": "text/x-python",
   "name": "python",
   "nbconvert_exporter": "python",
   "pygments_lexer": "ipython3",
   "version": "3.10.13"
  }
 },
 "nbformat": 4,
 "nbformat_minor": 2
}
