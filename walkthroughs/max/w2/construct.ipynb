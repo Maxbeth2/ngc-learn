{
 "cells": [
  {
   "cell_type": "markdown",
   "metadata": {},
   "source": [
    "### Building NGC graphs"
   ]
  },
  {
   "cell_type": "code",
   "execution_count": 6,
   "metadata": {},
   "outputs": [],
   "source": [
    "import tensorflow as tf\n",
    "from ngclearn.engine.nodes.enode import ENode\n",
    "from ngclearn.engine.ngc_graph import NGCGraph\n",
    "from construction_utils import SNodeBuilder, CableConnector\n",
    "bld = SNodeBuilder()\n",
    "cc = CableConnector()"
   ]
  },
  {
   "cell_type": "markdown",
   "metadata": {},
   "source": [
    "Define nodes"
   ]
  },
  {
   "cell_type": "code",
   "execution_count": 7,
   "metadata": {},
   "outputs": [],
   "source": [
    "a = bld.O1_set_numerals(beta=0.05, leak=0.001).O2_set_cats().O0_build(\"a\", dim=20)\n",
    "b = bld.O1_set_numerals(beta=0.05, leak=0.002).O2_set_cats().O0_build(\"b\", dim=10)\n",
    "e = ENode(\"e\", dim=10)"
   ]
  },
  {
   "cell_type": "markdown",
   "metadata": {},
   "source": [
    "Connect nodes"
   ]
  },
  {
   "cell_type": "code",
   "execution_count": null,
   "metadata": {},
   "outputs": [],
   "source": [
    "a_e = cc.O1_dense().Op1_with_update_rule().Op2_with_constraints().O0_connect(a, e, to_comp=cc.EComps.PMU)\n",
    "b_e = cc.O1_simple(1.0).O0_connect(b, e, from_comp=cc.SComps.Z, to_comp=cc.EComps.PTARG)\n",
    "cc.O1_mirror(a_e).O0_connect(e, a, to_comp=cc.SComps.BU)\n",
    "cc.O1_simple(-1.0).O0_connect(e, b)"
   ]
  },
  {
   "cell_type": "markdown",
   "metadata": {},
   "source": [
    "Construct Graph\n"
   ]
  },
  {
   "cell_type": "code",
   "execution_count": 9,
   "metadata": {},
   "outputs": [],
   "source": [
    "model = NGCGraph(K=5)\n",
    "model.set_cycle([a,b])\n",
    "model.set_cycle([e])\n",
    "model.apply_constraints()\n",
    "info = model.compile(batch_size=1)"
   ]
  },
  {
   "cell_type": "markdown",
   "metadata": {},
   "source": [
    "Test the model on some ones\n"
   ]
  },
  {
   "cell_type": "code",
   "execution_count": 35,
   "metadata": {},
   "outputs": [
    {
     "name": "stdout",
     "output_type": "stream",
     "text": [
      "The value of phi(z) w/in Node a is [[0. 0. 0. 0. 0. 0. 0. 0. 0. 0. 0. 0. 0. 0. 0. 0. 0. 0. 0. 0.]]\n",
      "The value of phi(z) w/in Node a is [[0. 0. 0. 0. 0. 0. 0. 0. 0. 0. 0. 0. 0. 0. 0. 0. 0. 0. 0. 0.]]\n"
     ]
    }
   ],
   "source": [
    "opt = tf.optimizers.SGD()\n",
    "x = tf.ones([1, 10])\n",
    "\n",
    "readouts = model.settle(\n",
    "                clamped_vars=[(\"b\",\"z\",x)],\n",
    "                readout_vars=[(\"a\",\"phi(z)\"),(\"e\",\"phi(z)\")]\n",
    ")\n",
    "\n",
    "print(\"The value of {} w/in Node {} is {}\".format(readouts[0][0][1], readouts[0][0][0], readouts[0][0][2].numpy()))\n",
    "\n",
    "delta = model.calc_updates()\n",
    "opt.apply_gradients(zip(delta, model.theta)) # apply a TF optimizer here\n",
    "model.apply_constraints()\n",
    "model.clear()\n",
    "\n",
    "readouts = model.settle(\n",
    "                clamped_vars=[(\"b\",\"z\",x)],\n",
    "                readout_vars=[(\"a\",\"phi(z)\"),(\"e\",\"phi(z)\")]\n",
    ")\n",
    "\n",
    "print(\"The value of {} w/in Node {} is {}\".format(readouts[0][0][1], readouts[0][0][0], readouts[0][0][2].numpy()))\n"
   ]
  }
 ],
 "metadata": {
  "kernelspec": {
   "display_name": "ngc",
   "language": "python",
   "name": "python3"
  },
  "language_info": {
   "codemirror_mode": {
    "name": "ipython",
    "version": 3
   },
   "file_extension": ".py",
   "mimetype": "text/x-python",
   "name": "python",
   "nbconvert_exporter": "python",
   "pygments_lexer": "ipython3",
   "version": "3.10.13"
  }
 },
 "nbformat": 4,
 "nbformat_minor": 2
}
