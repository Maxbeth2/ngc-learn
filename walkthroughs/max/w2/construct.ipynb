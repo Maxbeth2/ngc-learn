{
 "cells": [
  {
   "cell_type": "markdown",
   "metadata": {},
   "source": [
    "### Building NGC graphs"
   ]
  },
  {
   "cell_type": "markdown",
   "metadata": {},
   "source": [
    "Construct Graph\\\n",
    "\\\n",
    "<img src=\"Group42.png\" alt=\"MarineGEO circle logo\" style=\"height: 200px; width:100px;\"/>\n",
    "\n",
    "\n"
   ]
  },
  {
   "cell_type": "code",
   "execution_count": 26,
   "metadata": {},
   "outputs": [],
   "source": [
    "from construction_utils import SNodeBuilder, CableConnector\n",
    "from ngclearn.engine.ngc_graph import NGCGraph\n",
    "from ngclearn.engine.nodes.enode import ENode\n"
   ]
  },
  {
   "cell_type": "code",
   "execution_count": 27,
   "metadata": {},
   "outputs": [
    {
     "name": "stdout",
     "output_type": "stream",
     "text": [
      "Connecting nodes a-b with -dense- cable\n"
     ]
    }
   ],
   "source": [
    "dim = 4\n",
    "bd = SNodeBuilder()\n",
    "cc = CableConnector()\n",
    "\n",
    "a = bd.O1_set_numerals(beta=1.0, leak=0.0, zeta=0.0).O0_build(name=\"a\", dim=dim, reset=False)\n",
    "b = bd.O0_build(name=\"b\", dim=dim)\n",
    "\n",
    "a_b = cc.O1_dense().Op1_with_update_rule(a, b).Op2_with_constraints().O0_connect(a, b)\n",
    "\n",
    "model = NGCGraph(K=1)\n",
    "model.set_cycle([a, b])\n",
    "model.apply_constraints()\n",
    "comp = model.compile(batch_size=1)"
   ]
  },
  {
   "cell_type": "code",
   "execution_count": 28,
   "metadata": {},
   "outputs": [],
   "source": [
    "import tensorflow as tf\n",
    "import matplotlib.pyplot as plt\n",
    "opt = tf.optimizers.SGD(learning_rate=0.1)\n"
   ]
  },
  {
   "cell_type": "code",
   "execution_count": 29,
   "metadata": {},
   "outputs": [],
   "source": [
    "import numpy as np\n",
    "import time\n",
    "import matplotlib.pyplot as plt\n",
    "from IPython.display import display, clear_output\n",
    "\n",
    "\n",
    "# figure, (ax1, ax2, ax3) = plt.subplots(3, 1, figsize=(5, 8))\n",
    "# bc1 = ax1.bar(list(range(dim)), np.linspace(-2,2,dim))\n",
    "# bc3 = ax3.bar(list(range(dim)), np.linspace(-2,2,dim))\n",
    "# bc2 = ax2.matshow(model.theta[0].numpy(), cmap='seismic', vmin=-1.0, vmax=1.0)\n",
    "# ax1.set_title(\"z of a\", fontsize=10)\n",
    "# ax3.set_title(\"z of b\", fontsize=10)\n",
    "\n",
    "# ones = tf.ones([1, dim])\n",
    "# plt.ion()\n",
    "# for i in range(20):\n",
    "#     readouts = model.settle(\n",
    "#         clamped_vars=[(\"a\", \"z\", ones)],\n",
    "#         readout_vars=[(\"a\", \"z\"),(\"b\", \"z\")]\n",
    "#     )\n",
    "#     delta = model.calc_updates()\n",
    "#     # print(\"The value of {} w/in Node {} is {}\".format(readouts[0][0][1], readouts[0][0][0], readouts[0][0][2].numpy()))\n",
    "#     opt.apply_gradients(zip(delta, model.theta))\n",
    "#     model.apply_constraints()\n",
    "#     for d in range(dim):\n",
    "#         bc1[d].set_height((readouts[0][0][2].numpy()[0][d]))\n",
    "#         bc3[d].set_height((readouts[0][1][2].numpy()[0][d]))\n",
    "#     bc2.set_data(model.theta[0].numpy())\n",
    "#     model.clear()\n",
    "\n",
    "#     clear_output(wait=True)\n",
    "#     figure.canvas.draw()\n",
    "#     display(figure)\n",
    "#     time.sleep(0.1)"
   ]
  },
  {
   "cell_type": "markdown",
   "metadata": {},
   "source": [
    "# Learning a Data Generating Process\n"
   ]
  },
  {
   "cell_type": "code",
   "execution_count": 30,
   "metadata": {},
   "outputs": [],
   "source": [
    "from ngclearn.generator.static.mog import MoG"
   ]
  },
  {
   "cell_type": "code",
   "execution_count": 31,
   "metadata": {},
   "outputs": [],
   "source": [
    "mu1 = np.array([[0.0, 0.1]])\n",
    "mu1 = tf.cast(mu1, dtype=tf.float32)\n",
    "cov1 = np.array([[0.1, 0.0],\n",
    "                 [0.0, 0.14]])\n",
    "cov1 = tf.cast(cov1, dtype=tf.float32)\n",
    "\n",
    "mu2 = np.array([[1.0, 0.1]])\n",
    "mu2 = tf.cast(mu2, dtype=tf.float32)\n",
    "cov2 = np.array([[0.1, 0.0],\n",
    "                 [0.0, 0.34]])\n",
    "cov2 = tf.cast(cov2, dtype=tf.float32)\n",
    "mu3 = np.array([[1.0, 0.6]])\n",
    "mu3 = tf.cast(mu3, dtype=tf.float32)\n",
    "cov3 = np.array([[0.12, 0.0],\n",
    "                 [0.0, 0.24]])\n",
    "cov3 = tf.cast(cov3, dtype=tf.float32)\n",
    "\n"
   ]
  },
  {
   "cell_type": "code",
   "execution_count": 32,
   "metadata": {},
   "outputs": [],
   "source": [
    "mu_list = [mu1, mu2, mu3]\n",
    "sigma_list = [cov1, cov2, cov3]\n",
    "process = MoG(means=mu_list, covar=sigma_list, seed=69)\n",
    "x_dim = mu1.shape[1]"
   ]
  },
  {
   "cell_type": "code",
   "execution_count": 33,
   "metadata": {},
   "outputs": [],
   "source": [
    "K = 40\n",
    "leak = 0.0001\n",
    "beta = 0.1\n",
    "z2_dim = 2\n",
    "z1_dim = 64\n",
    "\n",
    "bd = SNodeBuilder()\n",
    "cc = CableConnector()\n",
    "\n",
    "z2 = bd                                   \\\n",
    "    .O1_set_numerals(beta=beta, leak=leak) \\\n",
    "    .O2_set_cats(integrate=True, use_dfx=True)              \\\n",
    "    .O0_build(name=\"z2\", dim=z2_dim)                                 #O\n",
    "mu1 = bd.O1_set_numerals(zeta=0.0).O0_build(\"mu1\", dim=z1_dim)  #V\n",
    "e1 = ENode(name=\"e1\", dim=z1_dim)                               #E\n",
    "z1 = bd                                            \\\n",
    "    .O1_set_numerals(beta=beta, leak=leak)          \\\n",
    "    .O2_set_cats(integrate=True, use_dfx=True, act_fx=bd.ACT_FX.ELU) \\\n",
    "    .Op1_with_prior(pt=bd.PT.LAPLACE, lbd=0.0001)     \\\n",
    "    .O0_build(\"z1\", dim=z1_dim)                                 #^\n",
    "mu0 = bd.O1_set_numerals(zeta=0.0).O0_build(\"mu0\", dim=x_dim)  #0\n",
    "e0 = ENode(name=\"e1\", dim=x_dim)                               #E\n",
    "z0 = bd                        \\\n",
    "    .O1_set_numerals(beta=beta) \\\n",
    "    .O2_set_cats(integrate=True, use_dfx=True)   \\\n",
    "    .O0_build(name=\"z0\", dim=x_dim)                             #O"
   ]
  },
  {
   "cell_type": "code",
   "execution_count": 34,
   "metadata": {},
   "outputs": [
    {
     "name": "stdout",
     "output_type": "stream",
     "text": [
      "Connecting nodes z2-mu1 with -dense- cable\n",
      "Connecting nodes mu1-e1 with -simple- cable\n",
      "Connecting nodes z1-e1 with -simple- cable\n",
      "Connecting nodes e1-z2 with -mirrored- cable\n",
      "Connecting nodes e1-z1 with -simple- cable\n",
      "Connecting nodes z1-mu0 with -dense- cable\n",
      "Connecting nodes mu0-e1 with -simple- cable\n",
      "Connecting nodes z0-e1 with -simple- cable\n",
      "Connecting nodes e1-z1 with -mirrored- cable\n",
      "Connecting nodes e1-z0 with -simple- cable\n"
     ]
    },
    {
     "data": {
      "text/plain": [
       "<ngclearn.engine.cables.scable.SCable at 0x20b12117250>"
      ]
     },
     "execution_count": 34,
     "metadata": {},
     "output_type": "execute_result"
    }
   ],
   "source": [
    "z2_mu1 = cc.O1_dense().Op1_with_update_rule(z2, e1).Op2_with_constraints().O0_connect(z2, mu1)\n",
    "cc.O1_simple().O0_connect(mu1, e1, to_comp=cc.EComps.PMU)\n",
    "cc.O1_simple().O0_connect(z1, e1, from_comp=cc.SComps.Z, to_comp=cc.EComps.PTARG)\n",
    "cc.O1_mirror(z2_mu1).O0_connect(e1, z2, to_comp=cc.SComps.BU)\n",
    "cc.O1_simple(-1.0).O0_connect(e1, z1)\n",
    "\n",
    "z1_mu0 = cc.O1_dense().Op1_with_update_rule(z1, e0).Op2_with_constraints().O0_connect(z1, mu0)\n",
    "cc.O1_simple().O0_connect(mu0, e0, to_comp=cc.EComps.PMU)\n",
    "cc.O1_simple().O0_connect(z0, e0, from_comp=cc.SComps.Z, to_comp=cc.EComps.PTARG)\n",
    "cc.O1_mirror(z1_mu0).O0_connect(e0, z1, to_comp=cc.SComps.BU)\n",
    "cc.O1_simple(-1.0).O0_connect(e0, z0)"
   ]
  },
  {
   "cell_type": "code",
   "execution_count": 35,
   "metadata": {},
   "outputs": [],
   "source": [
    "model = NGCGraph(K=K)\n",
    "model.set_cycle(nodes=[z2, z1, z0])\n",
    "model.set_cycle(nodes=[mu1, mu0])\n",
    "model.set_cycle(nodes=[e1, e0])\n",
    "model.apply_constraints()\n",
    "info = model.compile(batch_size=1)"
   ]
  },
  {
   "cell_type": "code",
   "execution_count": 36,
   "metadata": {},
   "outputs": [],
   "source": [
    "eta = 0.002\n",
    "eta_v  = tf.Variable( eta ) # set up optimization process\n",
    "opt = tf.keras.optimizers.Adam(eta_v)"
   ]
  },
  {
   "cell_type": "code",
   "execution_count": 37,
   "metadata": {},
   "outputs": [
    {
     "data": {
      "image/png": "[encoded data removed]",
      "text/plain": [
       "<Figure size 500x800 with 2 Axes>"
      ]
     },
     "metadata": {},
     "output_type": "display_data"
    },
    {
     "data": {
      "image/png": "[encoded data removed]",
      "text/plain": [
       "<Figure size 500x800 with 2 Axes>"
      ]
     },
     "metadata": {},
     "output_type": "display_data"
    }
   ],
   "source": [
    "import numpy as np\n",
    "import time\n",
    "import matplotlib.pyplot as plt\n",
    "from IPython.display import display, clear_output\n",
    "\n",
    "dim = 2\n",
    "figure, (ax1, ax2) = plt.subplots(2, 1, figsize=(5, 8))\n",
    "bc1 = ax1.bar(list(range(dim)), np.linspace(-2,2,dim))\n",
    "bc2 = ax2.bar(list(range(dim)), np.linspace(-2,2,dim))\n",
    "# bc2 = ax2.matshow(model.theta[0].numpy(), cmap='seismic', vmin=-1.0, vmax=1.0)\n",
    "ax1.set_title(\"x_hat\", fontsize=10)\n",
    "ax2.set_title(\"x\", fontsize=10)\n",
    "\n",
    "\n",
    "plt.ion()\n",
    "# for i in range(20):\n",
    "#     readouts = model.settle(\n",
    "#         clamped_vars=[(\"a\", \"z\", ones)],\n",
    "#         readout_vars=[(\"a\", \"z\"),(\"b\", \"z\")]\n",
    "#     )\n",
    "#     delta = model.calc_updates()\n",
    "#     # print(\"The value of {} w/in Node {} is {}\".format(readouts[0][0][1], readouts[0][0][0], readouts[0][0][2].numpy()))\n",
    "#     opt.apply_gradients(zip(delta, model.theta))\n",
    "#     model.apply_constraints()\n",
    "#     for d in range(dim):\n",
    "#         bc1[d].set_height((readouts[0][0][2].numpy()[0][d]))\n",
    "#         bc3[d].set_height((readouts[0][1][2].numpy()[0][d]))\n",
    "#     bc2.set_data(model.theta[0].numpy())\n",
    "#     model.clear()\n",
    "\n",
    "#     clear_output(wait=True)\n",
    "#     figure.canvas.draw()\n",
    "#     display(figure)\n",
    "#     time.sleep(0.1)\n",
    "\n",
    "\n",
    "\n",
    "\n",
    "for iter in range(1000):\n",
    "\n",
    "    x, y = process.sample(n_s=1)\n",
    "    # Ns = x.shape[0] + Ns * alpha\n",
    "\n",
    "    # conduct iterative inference & update NGC system\n",
    "    readouts, delta = model.settle(\n",
    "                        clamped_vars=[(\"z0\",\"z\",x)],\n",
    "                        readout_vars=[(\"mu0\",\"phi(z)\"),(\"mu1\",\"phi(z)\")]\n",
    "                      )\n",
    "    x_hat = readouts[0][2]\n",
    "\n",
    "    # ToD = calc_ToD(model) + ToD * alpha # calc ToD\n",
    "    # ToD_list.append((ToD/Ns))\n",
    "    # x_iter.append(iter)\n",
    "    # Lx = tf.reduce_sum( metric.mse(x_hat, x) ) + Lx * alpha\n",
    "    #delta = model.calc_updates()\n",
    "    for p in range(len(delta)):\n",
    "        delta[p] = delta[p] * (1.0/(x.shape[0] * 1.0))\n",
    "    opt.apply_gradients(zip(delta, model.theta))\n",
    "    model.apply_constraints()\n",
    "    print(readouts[0][2].numpy())\n",
    "    for d in range(dim):\n",
    "        bc1[d].set_height((readouts[0][2].numpy()[0][d]))\n",
    "        bc2[d].set_height((x.numpy()[0][d]))\n",
    "\n",
    "\n",
    "    model.clear()\n",
    "    clear_output(wait=True)\n",
    "    figure.canvas.draw()\n",
    "    display(figure)\n",
    "    time.sleep(0.1)"
   ]
  }
 ],
 "metadata": {
  "kernelspec": {
   "display_name": "ngc",
   "language": "python",
   "name": "python3"
  },
  "language_info": {
   "codemirror_mode": {
    "name": "ipython",
    "version": 3
   },
   "file_extension": ".py",
   "mimetype": "text/x-python",
   "name": "python",
   "nbconvert_exporter": "python",
   "pygments_lexer": "ipython3",
   "version": "3.10.13"
  }
 },
 "nbformat": 4,
 "nbformat_minor": 2
}
